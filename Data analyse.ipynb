{
 "cells": [
  {
   "cell_type": "markdown",
   "id": "96cbca52",
   "metadata": {},
   "source": [
    "## Telecom Subscribers data analysis\n"
   ]
  },
  {
   "cell_type": "markdown",
   "id": "4e910ed3",
   "metadata": {},
   "source": [
    "## Arranging the data sorting/filtering/addding"
   ]
  },
  {
   "cell_type": "code",
   "execution_count": 1,
   "id": "4f39fb66",
   "metadata": {
    "scrolled": false
   },
   "outputs": [],
   "source": [
    "import pandas as pd\n",
    "import numpy as np\n",
    "import matplotlib,matplotlib.pyplot as plt\n",
    "import mplcyberpunk\n",
    "from datetime import datetime\n",
    "\n",
    "# Our dataset\n",
    "df=pd.read_csv(\"data.csv\")\n",
    "\n",
    "def Vendors():\n",
    "    global vendors\n",
    "    vendors=df[\"Service Providers\"]\n",
    "    vendors=set(vendors)\n",
    "    vendors=list(vendors)\n",
    "    #print(vendors)\n",
    "\n",
    "Vendors()\n",
    "\n",
    "def FilterDates():\n",
    "    global new_df\n",
    "    new_df=df.sort_values(by=\"Fiscal Year AD\" ,ascending=True)\n",
    " \n",
    "     \n",
    "FilterDates()\n",
    "new_df=new_df.reset_index()\n",
    "new_df.drop(columns=[\"index\"]) \n",
    "\n",
    "unique_dates_AD=set((new_df[\"Fiscal Year AD\"]))\n",
    "unique_dates_BS=set((new_df[\"Fiscal Year BS\"]))\n",
    "\n",
    "# creating a new data frame 'bsad_df' just to sort dates for BS and AD \n",
    "# when you sort AD column the BS columns get rearranged so have to create a new data frame for both dates so that we dont\n",
    "# have to use .sort_values(by=\"\") which disturbs our work\n",
    "\n",
    "def  SortBSAD_dates():\n",
    "    global bs_df\n",
    "    global ad_df\n",
    "    bs_df=pd.DataFrame(columns=[\"Year BS\"])\n",
    "    bs_df[\"Year BS\"]=list(unique_dates_BS)\n",
    "    bs_df=bs_df.sort_values(by=\"Year BS\")\n",
    "    bs_df=bs_df.reset_index()\n",
    "    bs_df=bs_df.drop(columns=[\"index\"])\n",
    "    \n",
    "    # For AD\n",
    "    \n",
    "    ad_df=pd.DataFrame(columns=[\"Year AD\"])\n",
    "    ad_df[\"Year AD\"]=list(unique_dates_AD)\n",
    "    ad_df=ad_df.sort_values(by=\"Year AD\")\n",
    "    ad_df=ad_df.reset_index()\n",
    "    ad_df=ad_df.drop(columns=[\"index\"])\n",
    "\n",
    "SortBSAD_dates()\n",
    "\n",
    "def addBSandAD():\n",
    "    global test_df\n",
    "    # Creating a data frame <test_df> for our main work \n",
    "    test_df=pd.DataFrame(columns=[\"Year AD\",\"Year BS\"]+vendors)\n",
    "\n",
    "    test_df[\"Year AD\"]=ad_df[\"Year AD\"]\n",
    "    test_df[\"Year BS\"]=bs_df[\"Year BS\"]\n",
    "    #test_df=test_df.sort_values(by=\"Year AD\",ascending=True)\n",
    "\n",
    "    test_df=test_df.reset_index()\n",
    "    test_df=test_df.drop(columns=[\"index\"])\n",
    "    test_df\n",
    "\n",
    "addBSandAD()\n",
    "class PutValues: # to put subs data into respective vendors or columns\n",
    "    def NTC(self):\n",
    "        global test_df\n",
    "        ntc=new_df.loc[new_df[\"Service Providers\"]==\"Nepal Telecom Limited\"]\n",
    "        test_df[\"Nepal Telecom Limited\"]=ntc.Subscribers\n",
    "\n",
    "apply=PutValues()\n",
    "apply.NTC()\n"
   ]
  },
  {
   "cell_type": "code",
   "execution_count": 21,
   "id": "b7ddc5ca",
   "metadata": {
    "scrolled": false
   },
   "outputs": [
    {
     "data": {
      "text/html": [
       "<div>\n",
       "<style scoped>\n",
       "    .dataframe tbody tr th:only-of-type {\n",
       "        vertical-align: middle;\n",
       "    }\n",
       "\n",
       "    .dataframe tbody tr th {\n",
       "        vertical-align: top;\n",
       "    }\n",
       "\n",
       "    .dataframe thead th {\n",
       "        text-align: right;\n",
       "    }\n",
       "</style>\n",
       "<table border=\"1\" class=\"dataframe\">\n",
       "  <thead>\n",
       "    <tr style=\"text-align: right;\">\n",
       "      <th></th>\n",
       "      <th>Year AD</th>\n",
       "      <th>Year BS</th>\n",
       "      <th>Smart Telecom</th>\n",
       "      <th>Nepal Satellite Telecom Pvt.</th>\n",
       "      <th>STM Telecom Sanchar Pvt. Ltd</th>\n",
       "      <th>United Telecom Limited</th>\n",
       "      <th>Ncell Pvt Ltd</th>\n",
       "      <th>Others</th>\n",
       "      <th>Nepal Telecom Limited</th>\n",
       "    </tr>\n",
       "  </thead>\n",
       "  <tbody>\n",
       "    <tr>\n",
       "      <th>0</th>\n",
       "      <td>2009/10</td>\n",
       "      <td>2066/67</td>\n",
       "      <td>NaN</td>\n",
       "      <td>NaN</td>\n",
       "      <td>NaN</td>\n",
       "      <td>NaN</td>\n",
       "      <td>NaN</td>\n",
       "      <td>NaN</td>\n",
       "      <td>6326068.0</td>\n",
       "    </tr>\n",
       "    <tr>\n",
       "      <th>1</th>\n",
       "      <td>2010/11</td>\n",
       "      <td>2067/68</td>\n",
       "      <td>NaN</td>\n",
       "      <td>NaN</td>\n",
       "      <td>NaN</td>\n",
       "      <td>NaN</td>\n",
       "      <td>NaN</td>\n",
       "      <td>NaN</td>\n",
       "      <td>NaN</td>\n",
       "    </tr>\n",
       "    <tr>\n",
       "      <th>2</th>\n",
       "      <td>2011/12</td>\n",
       "      <td>2068/69</td>\n",
       "      <td>NaN</td>\n",
       "      <td>NaN</td>\n",
       "      <td>NaN</td>\n",
       "      <td>NaN</td>\n",
       "      <td>NaN</td>\n",
       "      <td>NaN</td>\n",
       "      <td>NaN</td>\n",
       "    </tr>\n",
       "    <tr>\n",
       "      <th>3</th>\n",
       "      <td>2012/13</td>\n",
       "      <td>2069/70</td>\n",
       "      <td>NaN</td>\n",
       "      <td>NaN</td>\n",
       "      <td>NaN</td>\n",
       "      <td>NaN</td>\n",
       "      <td>NaN</td>\n",
       "      <td>NaN</td>\n",
       "      <td>NaN</td>\n",
       "    </tr>\n",
       "    <tr>\n",
       "      <th>4</th>\n",
       "      <td>2013/14</td>\n",
       "      <td>2070/71</td>\n",
       "      <td>NaN</td>\n",
       "      <td>NaN</td>\n",
       "      <td>NaN</td>\n",
       "      <td>NaN</td>\n",
       "      <td>NaN</td>\n",
       "      <td>NaN</td>\n",
       "      <td>NaN</td>\n",
       "    </tr>\n",
       "  </tbody>\n",
       "</table>\n",
       "</div>"
      ],
      "text/plain": [
       "   Year AD  Year BS Smart Telecom Nepal Satellite Telecom Pvt.  \\\n",
       "0  2009/10  2066/67           NaN                          NaN   \n",
       "1  2010/11  2067/68           NaN                          NaN   \n",
       "2  2011/12  2068/69           NaN                          NaN   \n",
       "3  2012/13  2069/70           NaN                          NaN   \n",
       "4  2013/14  2070/71           NaN                          NaN   \n",
       "\n",
       "  STM Telecom Sanchar Pvt. Ltd United Telecom Limited Ncell Pvt Ltd Others  \\\n",
       "0                          NaN                    NaN           NaN    NaN   \n",
       "1                          NaN                    NaN           NaN    NaN   \n",
       "2                          NaN                    NaN           NaN    NaN   \n",
       "3                          NaN                    NaN           NaN    NaN   \n",
       "4                          NaN                    NaN           NaN    NaN   \n",
       "\n",
       "   Nepal Telecom Limited  \n",
       "0              6326068.0  \n",
       "1                    NaN  \n",
       "2                    NaN  \n",
       "3                    NaN  \n",
       "4                    NaN  "
      ]
     },
     "execution_count": 21,
     "metadata": {},
     "output_type": "execute_result"
    }
   ],
   "source": [
    "vals=(new_df.loc[new_df[\"Service Providers\"]==\"Nepal Telecom Limited\"][\"Subscribers\"])\n",
    "\n",
    "test_df.replace(test_df[:],vals)"
   ]
  },
  {
   "cell_type": "markdown",
   "id": "d4d5b539",
   "metadata": {},
   "source": [
    "## Test Part"
   ]
  },
  {
   "cell_type": "code",
   "execution_count": 4,
   "id": "71daf1d4",
   "metadata": {
    "scrolled": false
   },
   "outputs": [
    {
     "data": {
      "text/plain": [
       "0     6326068\n",
       "12    7522136\n",
       "18    8595771\n",
       "22    9176060\n",
       "30     580289\n",
       "Name: Subscribers, dtype: int64"
      ]
     },
     "execution_count": 4,
     "metadata": {},
     "output_type": "execute_result"
    }
   ],
   "source": [
    "new_df.loc[new_df[\"Service Providers\"]==\"Nepal Telecom Limited\"][\"Subscribers\"]"
   ]
  },
  {
   "cell_type": "code",
   "execution_count": null,
   "id": "a0432226",
   "metadata": {
    "scrolled": false
   },
   "outputs": [],
   "source": [
    "\n"
   ]
  }
 ],
 "metadata": {
  "kernelspec": {
   "display_name": "Python 3",
   "language": "python",
   "name": "python3"
  },
  "language_info": {
   "codemirror_mode": {
    "name": "ipython",
    "version": 3
   },
   "file_extension": ".py",
   "mimetype": "text/x-python",
   "name": "python",
   "nbconvert_exporter": "python",
   "pygments_lexer": "ipython3",
   "version": "3.7.3"
  }
 },
 "nbformat": 4,
 "nbformat_minor": 5
}
